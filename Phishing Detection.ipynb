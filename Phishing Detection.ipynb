{
 "cells": [
  {
   "cell_type": "code",
   "execution_count": 1,
   "metadata": {},
   "outputs": [],
   "source": [
    "import pandas as pd\n",
    "import os\n",
    "from sklearn.feature_extraction.text import CountVectorizer\n",
    "from urllib.parse import urlparse\n",
    "import re\n",
    "import numpy as np\n",
    "import validators\n",
    "from sklearn.feature_extraction.text import HashingVectorizer\n",
    "from sklearn.model_selection import train_test_split\n",
    "from sklearn.model_selection import GridSearchCV\n",
    "from sklearn.ensemble import RandomForestClassifier, VotingClassifier\n",
    "from sklearn import tree\n",
    "from sklearn.svm import SVC"
   ]
  },
  {
   "cell_type": "markdown",
   "metadata": {},
   "source": [
    "### Importing Data"
   ]
  },
  {
   "cell_type": "code",
   "execution_count": 2,
   "metadata": {
    "scrolled": true
   },
   "outputs": [],
   "source": [
    "# Get the current working directory \n",
    "# directory_path = os.path.dirname(os.path.realpath(__file__))\n",
    "\n",
    "# Load in the data\n",
    "phishing_data = pd.read_csv('dataset_csv/data_phishing.csv')\n",
    "legit_data = pd.read_csv('dataset_csv/data_legitimate.csv')\n",
    "\n",
    "def bag_of_words(corpus):\n",
    "    '''\n",
    "    Returns the bag of words \n",
    "    @corpus: String Array of strings - the data to be parsed in the bag of words operation\n",
    "    @return scipy Sparse Matrix \n",
    "    documentation: https://scikit-learn.org/stable/modules/generated/sklearn.feature_extraction.text.CountVectorizer.html#sklearn.feature_extraction.text.CountVectorizer.fit_transform\n",
    "    '''\n",
    "    \n",
    "    vectorizer = CountVectorizer()\n",
    "    return vectorizer.fit_transform(corpus).todense()\n",
    "\n",
    "def n_grams(corpus):\n",
    "    '''\n",
    "    ngram_range of (1, 1) means only unigrams, (1, 2) means unigrams and bigrams, and (2, 2) means only bigrams\n",
    "    '''\n",
    "    vectorizer = CountVectorizer(ngram_range=(1,3))\n",
    "    \n",
    "    return vectorizer.fit_transform(corpus)\n",
    "\n",
    "def split_url(url_input):\n",
    "    words = re.sub('\\W+', \" \", url_input)\n",
    "    return words\n",
    "\n",
    "def split_all_urls(urls):\n",
    "    split_urls = []\n",
    "    for url in urls:\n",
    "        split_urls.append(split_url(url))\n",
    "        \n",
    "    return split_urls"
   ]
  },
  {
   "cell_type": "markdown",
   "metadata": {},
   "source": [
    "### Preprocessing"
   ]
  },
  {
   "cell_type": "code",
   "execution_count": 3,
   "metadata": {},
   "outputs": [],
   "source": [
    "# Parse the urls\n",
    "def parse_urls(urls):\n",
    "    parsed_urls = []\n",
    "    for url in urls:\n",
    "        parsed_urls.append(urlparse(url))\n",
    "        \n",
    "    return parsed_urls"
   ]
  },
  {
   "cell_type": "code",
   "execution_count": 4,
   "metadata": {},
   "outputs": [],
   "source": [
    "def contains_https(url):\n",
    "    if \"https\" in url:\n",
    "        return 1\n",
    "    \n",
    "    return 0\n",
    "\n",
    "def contains_http(url):\n",
    "    if \"http\" in url:\n",
    "        return 1\n",
    "    return 0\n",
    "\n",
    "def starts_with_http(url):\n",
    "    if url.startswith(\"http\") or url.startswith(\"https\"):\n",
    "        return 1\n",
    "    return 0\n",
    "\n",
    "def url_length(url):\n",
    "    return len(url)\n",
    "\n",
    "def count_numbers(url):\n",
    "    numbers = sum(c.isdigit() for c in url)\n",
    "    \n",
    "    return numbers\n",
    "\n",
    "def count_symbols(url):\n",
    "    return sum(map(len, re.findall('\\W+', url)))\n",
    "    \n",
    "def netloc_proper_form(netloc):\n",
    "    # No HTTP(S) required\n",
    "    if len(re.findall('(https?:\\/\\/(?:www\\.|(?!www))[a-zA-Z0-9][a-zA-Z0-9-]+[a-zA-Z0-9]\\.[^\\s]{2,}|www\\.[a-zA-Z0-9][a-zA-Z0-9-]+[a-zA-Z0-9]\\.[^\\s]{2,}|https?:\\/\\/(?:www\\.|(?!www))[a-zA-Z0-9]+\\.[^\\s]{2,}|www\\.[a-zA-Z0-9]+\\.[^\\s]{2,})', netloc)) >= 1:\n",
    "        return 1\n",
    "    return 0\n",
    "        \n",
    "def validate_url(url):\n",
    "    if validators.url(url):\n",
    "        return 1\n",
    "    else:\n",
    "        return 0\n",
    "\n",
    "def valid_url_https(url):\n",
    "    if len(re.findall('https?:\\/\\/(www\\.)?[-a-zA-Z0-9@:%._\\+~#=]{1,256}\\.[a-zA-Z0-9()]{1,6}\\\\b([-a-zA-Z0-9()@:%_\\+.~#?&//=]*)', url)) >= 1:\n",
    "        return 1\n",
    "    return 0\n",
    "    \n",
    "\n",
    "def is_valid_url(url):\n",
    "        if len(re.findall('[-a-zA-Z0-9@:%._\\+~#=]{1,256}\\.[a-zA-Z0-9()]{1,6}\\\\b([-a-zA-Z0-9()@:%_\\+.~#?&//=]*)', url)) >= 1:\n",
    "            return 1\n",
    "        return 0\n",
    "\n",
    "def get_netloc_length(netloc):\n",
    "    return len(netloc)\n",
    "\n",
    "def convert_urls_to_DF(urls):\n",
    "    return pd.DataFrame(urls)\n",
    "\n",
    "vectorizer = HashingVectorizer(n_features=40)\n",
    "def convert_text_to_numeric(text):\n",
    "    return vectorizer.transform(text)"
   ]
  },
  {
   "cell_type": "markdown",
   "metadata": {},
   "source": [
    "##### Join the Phishing and legit data into a single DataFrame"
   ]
  },
  {
   "cell_type": "code",
   "execution_count": 5,
   "metadata": {},
   "outputs": [],
   "source": [
    "# Join the phishing and legit data into a single DataFrame and create a new column which dictates phishing or legit\n",
    "combined_data = pd.DataFrame(columns=['URL', 'is_phishing'])\n",
    "\n",
    "legit_data.rename(inplace=True, columns={'Field1': 'URL'})\n",
    "legit_data['is_phishing'] = 0\n",
    "\n",
    "phishing_data.rename(inplace=True, columns={'Field1': 'URL'})\n",
    "phishing_data['is_phishing'] = 1\n",
    "\n",
    "combined_data = combined_data.append(legit_data)\n",
    "combined_data = combined_data.append(phishing_data)"
   ]
  },
  {
   "cell_type": "markdown",
   "metadata": {},
   "source": [
    "### Extract Features"
   ]
  },
  {
   "cell_type": "code",
   "execution_count": 6,
   "metadata": {},
   "outputs": [],
   "source": [
    "# Feature 1, 2, and 3 -> Contains http, contains https, and startswith http or https\n",
    "con_http = []\n",
    "con_https = []\n",
    "start_http = []\n",
    "# Feature 4, 5, 6 -> url length, # digits, # symbols\n",
    "url_lengths = []\n",
    "num_digits = []\n",
    "num_symbols = []\n",
    "\n",
    "# Features 7, 8, 9 -> validating the form of the url\n",
    "validated_urls = []\n",
    "valid_urls = []\n",
    "url_valid = []\n",
    "\n",
    "for url in combined_data['URL']:\n",
    "    # Features 1,2,3\n",
    "    con_http.append(contains_http(url))\n",
    "    con_https.append(contains_https(url))\n",
    "    start_http.append(starts_with_http(url))\n",
    "    \n",
    "    # Features 4,5,6\n",
    "    url_lengths.append(url_length(url))\n",
    "    num_digits.append(count_numbers(url))\n",
    "    num_symbols.append(count_symbols(url))\n",
    "    \n",
    "    # Features 7,8,9\n",
    "    validated_urls.append(validate_url(url))\n",
    "    valid_urls.append(valid_url_https(url))\n",
    "    url_valid.append(is_valid_url(url))\n",
    "    \n",
    "    \n",
    "# Add extracted features to DataFrame\n",
    "combined_data['contains_http'] = con_http\n",
    "combined_data['contains_https'] = con_https\n",
    "combined_data['startswith_http'] = start_http\n",
    "\n",
    "combined_data['url_length'] = url_lengths\n",
    "combined_data['num_digits'] = num_digits\n",
    "combined_data['num_symbols'] = num_symbols\n",
    "\n",
    "combined_data['validated_url'] = validated_urls\n",
    "combined_data['valid_url'] = valid_urls\n",
    "combined_data['url_valid'] = url_valid"
   ]
  },
  {
   "cell_type": "code",
   "execution_count": 7,
   "metadata": {},
   "outputs": [],
   "source": [
    "# Parse the URLs and encode text features\n",
    "\n",
    "parsed_urls = parse_urls(combined_data['URL'])\n",
    "\n",
    "scheme_lengths = []\n",
    "scheme_digits = []\n",
    "scheme_symbols = []\n",
    "\n",
    "netloc_digits = []\n",
    "netloc_symbols = []\n",
    "\n",
    "path_lengths = []\n",
    "path_digits = []\n",
    "path_symbols = []\n",
    "\n",
    "params_lengths = []\n",
    "params_digits = []\n",
    "params_symbols = []\n",
    "\n",
    "query_lengths = []\n",
    "query_digits = []\n",
    "query_symbols = []\n",
    "\n",
    "fragment_lengths = []\n",
    "fragment_digits = []\n",
    "fragment_symbols = []\n",
    "\n",
    "netloc_form = []\n",
    "netloc_lengths = []\n",
    "\n",
    "parsed_urls = parse_urls(combined_data['URL'])\n",
    "combined_data['scheme'] = [url.scheme for url in parsed_urls]\n",
    "pd.get_dummies(data=combined_data, columns=['scheme'])\n",
    "\n",
    "for url in parsed_urls:\n",
    "    scheme_lengths.append(len(url.scheme))\n",
    "    scheme_digits.append(count_numbers(url.scheme))\n",
    "    scheme_symbols.append(count_symbols(url.scheme))\n",
    "    \n",
    "    path_lengths.append(len(url.path))\n",
    "    path_digits.append(count_numbers(url.path))\n",
    "    path_symbols.append(count_symbols(url.path))\n",
    "    \n",
    "    params_lengths.append(len(url.params))\n",
    "    params_digits.append(count_numbers(url.params))\n",
    "    params_symbols.append(count_symbols(url.params))\n",
    "    \n",
    "    query_lengths.append(len(url.query))\n",
    "    query_digits.append(count_numbers(url.query))\n",
    "    query_symbols.append(count_symbols(url.query))\n",
    "    \n",
    "    fragment_lengths.append(len(url.fragment))\n",
    "    fragment_digits.append(count_numbers(url.fragment))\n",
    "    fragment_symbols.append(count_symbols(url.fragment))\n",
    "    \n",
    "    # Determine if the netloc is valid\n",
    "    netloc_form.append(is_valid_url(url.netloc))\n",
    "    netloc_lengths.append(len(url.netloc))\n",
    "    netloc_digits.append(count_numbers(url.netloc))\n",
    "    netloc_symbols.append(count_symbols(url.netloc))\n",
    "    \n",
    "# Add to DF\n",
    "combined_data['scheme_length'] = scheme_lengths\n",
    "combined_data['scheme_digits'] = scheme_digits\n",
    "combined_data['scheme_symbols'] = scheme_symbols\n",
    "\n",
    "combined_data['path_length'] = path_lengths\n",
    "combined_data['path_digits'] = path_digits\n",
    "combined_data['path_symbols'] = path_symbols\n",
    "\n",
    "combined_data['params_length'] = params_lengths\n",
    "combined_data['params_digits'] = params_digits\n",
    "combined_data['params_symbols'] = params_symbols\n",
    "\n",
    "combined_data['query_length'] = query_lengths\n",
    "combined_data['query_digits'] = query_digits\n",
    "combined_data['query_symbols'] = query_symbols\n",
    "\n",
    "combined_data['fragment_length'] = fragment_lengths\n",
    "combined_data['fragment_digits'] = fragment_digits\n",
    "combined_data['fragment_symbols'] = fragment_symbols\n",
    "\n",
    "combined_data['netloc_length'] = netloc_lengths\n",
    "combined_data['netloc_digits'] = netloc_digits\n",
    "combined_data['netloc_symbols'] = netloc_symbols\n",
    "combined_data['netloc_form'] = scheme_lengths"
   ]
  },
  {
   "cell_type": "markdown",
   "metadata": {},
   "source": [
    "##### Split the data into train and test set"
   ]
  },
  {
   "cell_type": "code",
   "execution_count": 8,
   "metadata": {},
   "outputs": [],
   "source": [
    "y = combined_data['is_phishing']\n",
    "y = y.astype('int')\n",
    "X = combined_data.drop(['is_phishing'], axis=1)\n",
    "X = X.drop(['URL'], axis=1)\n",
    "X_train, X_test, y_train, y_test = train_test_split(X, y, test_size=0.20, random_state=42)\n",
    "X_train = X_train.drop(['scheme'], axis=1)\n",
    "X_test = X_test.drop(['scheme'], axis=1)"
   ]
  },
  {
   "cell_type": "markdown",
   "metadata": {},
   "source": [
    "### Train the Random Forest Model"
   ]
  },
  {
   "cell_type": "code",
   "execution_count": 9,
   "metadata": {},
   "outputs": [],
   "source": [
    "def algorithm_pipeline(X_train_data, X_test_data, y_train_data, y_test_data, \n",
    "                       model, param_grid, cv=10, scoring_fit='neg_log_loss',\n",
    "                       do_probabilities = False):\n",
    "    gs = GridSearchCV(\n",
    "        estimator=model,\n",
    "        param_grid=param_grid, \n",
    "        cv=cv, \n",
    "        n_jobs=-1,\n",
    "        scoring=scoring_fit,\n",
    "        verbose=2\n",
    "    )\n",
    "    fitted_model = gs.fit(X_train_data, y_train_data)\n",
    "    \n",
    "    if do_probabilities:\n",
    "        pred = fitted_model.predict_proba(X_test_data)\n",
    "    else:\n",
    "        pred = fitted_model.predict(X_test_data)\n",
    "    \n",
    "    return fitted_model, pred"
   ]
  },
  {
   "cell_type": "code",
   "execution_count": 18,
   "metadata": {},
   "outputs": [
    {
     "name": "stdout",
     "output_type": "stream",
     "text": [
      "Fitting 5 folds for each of 27 candidates, totalling 135 fits\n"
     ]
    },
    {
     "name": "stderr",
     "output_type": "stream",
     "text": [
      "[Parallel(n_jobs=-1)]: Using backend LokyBackend with 8 concurrent workers.\n",
      "[Parallel(n_jobs=-1)]: Done  25 tasks      | elapsed:  3.3min\n",
      "[Parallel(n_jobs=-1)]: Done 135 out of 135 | elapsed: 37.4min finished\n"
     ]
    },
    {
     "name": "stdout",
     "output_type": "stream",
     "text": [
      "[22:31:37] WARNING: C:\\Users\\Administrator\\workspace\\xgboost-win64_release_1.2.0\\src\\learner.cc:516: \n",
      "Parameters: { max_leaf_nodes } might not be used.\n",
      "\n",
      "  This may not be accurate due to some parameters are only used in language bindings but\n",
      "  passed down to XGBoost core.  Or some parameters are not used but slip through this\n",
      "  verification. Please open an issue if you find above cases.\n",
      "\n",
      "\n",
      "0.8088323270259715\n",
      "{'max_depth': 25, 'max_leaf_nodes': 50, 'n_estimators': 400, 'tree_method': 'gpu_hist'}\n"
     ]
    }
   ],
   "source": [
    "# Random Forest Model\n",
    "from xgboost import XGBRFClassifier\n",
    "model = XGBRFClassifier(tree_method='gpu_hist')\n",
    "param_grid = {\n",
    "    'tree_method': ['gpu_hist'],\n",
    "    'n_estimators': [400, 700, 1000],\n",
    "    'max_depth': [15,20,25],\n",
    "    'max_leaf_nodes': [50, 100, 200],\n",
    "}\n",
    "\n",
    "\n",
    "model, pred = algorithm_pipeline(X_train, X_test, y_train, y_test, model,\n",
    "                                 param_grid, cv=5)\n",
    "\n",
    "# Root Mean Squared Error\n",
    "print(np.sqrt(-model.best_score_))\n",
    "print(model.best_params_)"
   ]
  },
  {
   "cell_type": "markdown",
   "metadata": {},
   "source": [
    "### Train the Decision Tree"
   ]
  },
  {
   "cell_type": "code",
   "execution_count": 11,
   "metadata": {},
   "outputs": [
    {
     "name": "stdout",
     "output_type": "stream",
     "text": [
      "Fitting 5 folds for each of 12 candidates, totalling 60 fits\n"
     ]
    },
    {
     "name": "stderr",
     "output_type": "stream",
     "text": [
      "[Parallel(n_jobs=-1)]: Using backend LokyBackend with 8 concurrent workers.\n",
      "[Parallel(n_jobs=-1)]: Done  25 tasks      | elapsed:  8.0min\n",
      "[Parallel(n_jobs=-1)]: Done  60 out of  60 | elapsed: 22.0min finished\n"
     ]
    },
    {
     "name": "stdout",
     "output_type": "stream",
     "text": [
      "[11:38:37] WARNING: C:\\Users\\Administrator\\workspace\\xgboost-win64_release_1.2.0\\src\\learner.cc:516: \n",
      "Parameters: { max_leaf_nodes } might not be used.\n",
      "\n",
      "  This may not be accurate due to some parameters are only used in language bindings but\n",
      "  passed down to XGBoost core.  Or some parameters are not used but slip through this\n",
      "  verification. Please open an issue if you find above cases.\n",
      "\n",
      "\n",
      "0.8649167516139993\n",
      "{'max_depth': 20, 'max_leaf_nodes': 40, 'n_estimators': 200, 'n_jobs': 1}\n"
     ]
    }
   ],
   "source": [
    "# Decision Tree Model\n",
    "from xgboost import XGBClassifier\n",
    "\n",
    "clf = XGBClassifier()\n",
    "\n",
    "param_grid = {\n",
    "    'n_jobs': [1],\n",
    "    'n_estimators': [200, 400],\n",
    "    'max_depth': [20, 25, 30],\n",
    "    'max_leaf_nodes': [40, 50],\n",
    "}\n",
    "\n",
    "decision_tree_model, predictions_dt = algorithm_pipeline(X_train, X_test, y_train, y_test, clf, param_grid, cv=5, scoring_fit='accuracy',)\n",
    "\n",
    "print(decision_tree_model.best_score_)\n",
    "print(decision_tree_model.best_params_)"
   ]
  },
  {
   "cell_type": "markdown",
   "metadata": {},
   "source": [
    "### Train the SVM"
   ]
  },
  {
   "cell_type": "code",
   "execution_count": 16,
   "metadata": {},
   "outputs": [
    {
     "name": "stdout",
     "output_type": "stream",
     "text": [
      "Fitting 5 folds for each of 2 candidates, totalling 10 fits\n"
     ]
    },
    {
     "name": "stderr",
     "output_type": "stream",
     "text": [
      "[Parallel(n_jobs=-1)]: Using backend LokyBackend with 8 concurrent workers.\n",
      "[Parallel(n_jobs=-1)]: Done   7 out of  10 | elapsed:   24.6s remaining:   10.5s\n",
      "[Parallel(n_jobs=-1)]: Done  10 out of  10 | elapsed:   33.7s finished\n"
     ]
    },
    {
     "name": "stdout",
     "output_type": "stream",
     "text": [
      "0.658936459395175\n",
      "{'loss': 'hinge', 'penalty': 'l2'}\n"
     ]
    },
    {
     "name": "stderr",
     "output_type": "stream",
     "text": [
      "c:\\users\\grayd\\onedrive\\docume~1\\univer~1\\second~1\\person~1\\machin~1\\neural~1\\neural~1\\lib\\site-packages\\sklearn\\svm\\base.py:929: ConvergenceWarning: Liblinear failed to converge, increase the number of iterations.\n",
      "  \"the number of iterations.\", ConvergenceWarning)\n"
     ]
    }
   ],
   "source": [
    "from sklearn.svm import LinearSVC\n",
    "svm_classifier = LinearSVC()\n",
    "\n",
    "param_grid = {\n",
    "    'penalty': ['l2'],\n",
    "    'loss': ['hinge', 'squared_hinge']\n",
    "}\n",
    "\n",
    "svm_model, predictions_svm = algorithm_pipeline(X_train, X_test, y_train, y_test, svm_classifier, \n",
    "                                 param_grid, cv=5, scoring_fit='accuracy')\n",
    "\n",
    "print(svm_model.best_score_)\n",
    "print(svm_model.best_params_)"
   ]
  },
  {
   "cell_type": "markdown",
   "metadata": {},
   "source": [
    "### Implement and Test Ensemble"
   ]
  },
  {
   "cell_type": "code",
   "execution_count": 10,
   "metadata": {},
   "outputs": [],
   "source": [
    "# This may not work since I used XGBoost (not sure if all models need to be sklearn)\n",
    "DT_clf = tree.DecisionTreeClassifier(max_depth=20, max_leaf_nodes=40)\n",
    "random_forest_clf = RandomForestClassifier(max_depth=23, max_leaf_nodes=40, n_estimators=200)\n",
    "\n",
    "ensemble = [('Decision Tree', DT_clf), ('Random Forest', random_forest_clf)]\n",
    "voting_soft = VotingClassifier(estimators = ensemble, voting ='soft') \n",
    "\n",
    "# If performance is really bad, try to fit here.\n",
    "voting_soft.fit(X_train, y_train) \n",
    "\n",
    "y_pred = voting_soft.predict(X_test) "
   ]
  },
  {
   "cell_type": "markdown",
   "metadata": {},
   "source": [
    "### Evaluate and Visualize Ensemble"
   ]
  },
  {
   "cell_type": "code",
   "execution_count": 14,
   "metadata": {
    "scrolled": false
   },
   "outputs": [
    {
     "data": {
      "image/png": "[encoded data removed]",
      "text/plain": [
       "<Figure size 432x288 with 1 Axes>"
      ]
     },
     "metadata": {
      "needs_background": "light"
     },
     "output_type": "display_data"
    },
    {
     "data": {
      "text/plain": [
       "<Figure size 432x288 with 0 Axes>"
      ]
     },
     "metadata": {},
     "output_type": "display_data"
    }
   ],
   "source": [
    "# Evaluate the Ensemble\n",
    "%matplotlib inline\n",
    "\n",
    "import sklearn.metrics as metrics\n",
    "# calculate the fpr and tpr for all thresholds of the classification\n",
    "probs = voting_soft.predict_proba(X_test)\n",
    "preds = probs[:,1]\n",
    "fpr, tpr, threshold = metrics.roc_curve(y_test, preds)\n",
    "roc_auc = metrics.auc(fpr, tpr)\n",
    "\n",
    "# method I: plt\n",
    "import matplotlib.pyplot as plt\n",
    "plt.title('Receiver Operating Characteristic')\n",
    "plt.plot(fpr, tpr, 'b', label = 'AUC = %0.2f' % roc_auc)\n",
    "plt.legend(loc = 'lower right')\n",
    "plt.plot([0, 1], [0, 1],'r--')\n",
    "plt.xlim([0, 1])\n",
    "plt.ylim([0, 1])\n",
    "plt.ylabel('True Positive Rate')\n",
    "plt.xlabel('False Positive Rate')\n",
    "plt.show()"
   ]
  },
  {
   "cell_type": "code",
   "execution_count": null,
   "metadata": {},
   "outputs": [],
   "source": []
  }
 ],
 "metadata": {
  "kernelspec": {
   "display_name": "Python 3",
   "language": "python",
   "name": "python3"
  },
  "language_info": {
   "codemirror_mode": {
    "name": "ipython",
    "version": 3
   },
   "file_extension": ".py",
   "mimetype": "text/x-python",
   "name": "python",
   "nbconvert_exporter": "python",
   "pygments_lexer": "ipython3",
   "version": "3.6.8"
  }
 },
 "nbformat": 4,
 "nbformat_minor": 2
}
